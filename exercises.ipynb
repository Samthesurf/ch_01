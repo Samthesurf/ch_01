{
 "cells": [
  {
   "cell_type": "markdown",
   "metadata": {},
   "source": [
    "# Coding exercises\n",
    "Exercises 1-3 are thought exercises that don't require coding. If you need a Python crash-course/refresher, work through the [`python_101.ipynb`](./python_101.ipynb) notebook in chapter 1.\n",
    "\n",
    "## Exercise 4: Generate the data by running this cell\n",
    "This will give you a list of numbers to work with in the remaining exercises."
   ]
  },
  {
   "cell_type": "code",
   "execution_count": 1,
   "metadata": {},
   "outputs": [],
   "source": [
    "import random\n",
    "\n",
    "random.seed(0)\n",
    "salaries = [round(random.random()*1000000, -3) for _ in range(100)]"
   ]
  },
  {
   "cell_type": "markdown",
   "metadata": {},
   "source": [
    "## Exercise 5: Calculating statistics and verifying\n",
    "### mean"
   ]
  },
  {
   "cell_type": "code",
   "execution_count": 8,
   "metadata": {},
   "outputs": [
    {
     "name": "stdout",
     "output_type": "stream",
     "text": [
      "585690.0\n"
     ]
    }
   ],
   "source": [
    "n = len(salaries)\n",
    "mean = sum(salaries)/n\n",
    "print(mean)"
   ]
  },
  {
   "cell_type": "markdown",
   "metadata": {},
   "source": [
    "### median"
   ]
  },
  {
   "cell_type": "code",
   "execution_count": 9,
   "metadata": {},
   "outputs": [
    {
     "name": "stdout",
     "output_type": "stream",
     "text": [
      "589000.0\n"
     ]
    }
   ],
   "source": [
    "import statistics as stat\n",
    "median = stat.median(salaries)\n",
    "print(median)"
   ]
  },
  {
   "cell_type": "markdown",
   "metadata": {},
   "source": [
    "### mode"
   ]
  },
  {
   "cell_type": "code",
   "execution_count": 10,
   "metadata": {},
   "outputs": [
    {
     "name": "stdout",
     "output_type": "stream",
     "text": [
      "477000.0\n"
     ]
    }
   ],
   "source": [
    "mode = stat.mode(salaries)\n",
    "print(mode)"
   ]
  },
  {
   "cell_type": "markdown",
   "metadata": {},
   "source": [
    "### sample variance\n",
    "Remember to use Bessel's correction."
   ]
  },
  {
   "cell_type": "code",
   "execution_count": 12,
   "metadata": {},
   "outputs": [
    {
     "name": "stdout",
     "output_type": "stream",
     "text": [
      "70664054444.44444\n"
     ]
    }
   ],
   "source": [
    "samp_var = sum((x - mean)**2 for x in salaries)/(n-1)\n",
    "print(samp_var)"
   ]
  },
  {
   "cell_type": "markdown",
   "metadata": {},
   "source": [
    "### sample standard deviation\n",
    "Remember to use Bessel's correction."
   ]
  },
  {
   "cell_type": "code",
   "execution_count": 13,
   "metadata": {},
   "outputs": [
    {
     "name": "stdout",
     "output_type": "stream",
     "text": [
      "265827.11382484\n"
     ]
    }
   ],
   "source": [
    "stdevv = samp_var ** 0.5\n",
    "print(stdevv)"
   ]
  },
  {
   "cell_type": "markdown",
   "metadata": {},
   "source": [
    "## Exercise 6: Calculating more statistics\n",
    "### range"
   ]
  },
  {
   "cell_type": "code",
   "execution_count": 14,
   "metadata": {},
   "outputs": [
    {
     "name": "stdout",
     "output_type": "stream",
     "text": [
      "995000.0\n"
     ]
    }
   ],
   "source": [
    "range = max(salaries) - min(salaries)\n",
    "print(range)"
   ]
  },
  {
   "cell_type": "markdown",
   "metadata": {},
   "source": [
    "### coefficient of variation\n",
    "Make sure to use the sample standard deviation."
   ]
  },
  {
   "cell_type": "code",
   "execution_count": 16,
   "metadata": {},
   "outputs": [
    {
     "name": "stdout",
     "output_type": "stream",
     "text": [
      "45.39%\n"
     ]
    }
   ],
   "source": [
    "cov = stdevv * 100/mean\n",
    "print(f'{cov:.2f}%')"
   ]
  },
  {
   "cell_type": "markdown",
   "metadata": {},
   "source": [
    "### interquartile range"
   ]
  },
  {
   "cell_type": "code",
   "execution_count": 26,
   "metadata": {},
   "outputs": [
    {
     "data": {
      "text/plain": [
       "413250.0"
      ]
     },
     "execution_count": 26,
     "metadata": {},
     "output_type": "execute_result"
    }
   ],
   "source": [
    "import numpy as np\n",
    "from sklearn.preprocessing import MinMaxScaler,StandardScaler\n",
    "q1 = np.percentile(salaries,25)\n",
    "q3 = np.percentile(salaries,75)\n",
    "q3-q1"
   ]
  },
  {
   "cell_type": "markdown",
   "metadata": {},
   "source": [
    "### quartile coefficent of dispersion"
   ]
  },
  {
   "cell_type": "code",
   "execution_count": 27,
   "metadata": {},
   "outputs": [
    {
     "name": "stdout",
     "output_type": "stream",
     "text": [
      "0.338660110633067\n"
     ]
    }
   ],
   "source": [
    "qcod = (q3 -q1)/(q3+q1)\n",
    "print(qcod)"
   ]
  },
  {
   "cell_type": "markdown",
   "metadata": {},
   "source": [
    "## Exercise 7: Scaling data\n",
    "### min-max scaling"
   ]
  },
  {
   "cell_type": "code",
   "execution_count": 31,
   "metadata": {},
   "outputs": [
    {
     "name": "stdout",
     "output_type": "stream",
     "text": [
      "[[0.84723618]\n",
      " [0.76080402]\n",
      " [0.42211055]\n",
      " [0.25929648]\n",
      " [0.51256281]\n",
      " [0.40603015]\n",
      " [0.78693467]\n",
      " [0.30351759]\n",
      " [0.47839196]\n",
      " [0.58492462]\n",
      " [0.91155779]\n",
      " [0.50653266]\n",
      " [0.28241206]\n",
      " [0.75879397]\n",
      " [0.6201005 ]\n",
      " [0.25125628]\n",
      " [0.91356784]\n",
      " [0.98693467]\n",
      " [0.81306533]\n",
      " [0.90552764]\n",
      " [0.31055276]\n",
      " [0.73266332]\n",
      " [0.90251256]\n",
      " [0.68643216]\n",
      " [0.47336683]\n",
      " [0.10050251]\n",
      " [0.43517588]\n",
      " [0.61306533]\n",
      " [0.91658291]\n",
      " [0.97085427]\n",
      " [0.47839196]\n",
      " [0.86834171]\n",
      " [0.26030151]\n",
      " [0.8080402 ]\n",
      " [0.55075377]\n",
      " [0.01306533]\n",
      " [0.72261307]\n",
      " [0.4       ]\n",
      " [0.8281407 ]\n",
      " [0.67035176]\n",
      " [0.        ]\n",
      " [0.49547739]\n",
      " [0.87135678]\n",
      " [0.24422111]\n",
      " [0.32562814]\n",
      " [0.87336683]\n",
      " [0.19095477]\n",
      " [0.56984925]\n",
      " [0.23919598]\n",
      " [0.9718593 ]\n",
      " [0.80603015]\n",
      " [0.44924623]\n",
      " [0.07939698]\n",
      " [0.32060302]\n",
      " [0.50954774]\n",
      " [0.93668342]\n",
      " [0.10854271]\n",
      " [0.55276382]\n",
      " [0.70954774]\n",
      " [0.54874372]\n",
      " [0.81708543]\n",
      " [0.54170854]\n",
      " [0.9678392 ]\n",
      " [0.60502513]\n",
      " [0.58994975]\n",
      " [0.44623116]\n",
      " [0.59798995]\n",
      " [0.38592965]\n",
      " [0.57788945]\n",
      " [0.29045226]\n",
      " [0.18894472]\n",
      " [0.18693467]\n",
      " [0.61507538]\n",
      " [0.65929648]\n",
      " [0.47839196]\n",
      " [0.08944724]\n",
      " [0.76080402]\n",
      " [0.88040201]\n",
      " [0.92663317]\n",
      " [0.84522613]\n",
      " [0.90150754]\n",
      " [0.92663317]\n",
      " [0.54271357]\n",
      " [0.3919598 ]\n",
      " [0.70753769]\n",
      " [0.27638191]\n",
      " [0.81507538]\n",
      " [0.85226131]\n",
      " [0.89849246]\n",
      " [0.5919598 ]\n",
      " [0.95376884]\n",
      " [0.58190955]\n",
      " [0.45226131]\n",
      " [0.66231156]\n",
      " [1.        ]\n",
      " [0.92060302]\n",
      " [0.7959799 ]\n",
      " [0.08140704]\n",
      " [0.61507538]\n",
      " [0.48743719]]\n"
     ]
    }
   ],
   "source": [
    "scaler = MinMaxScaler()\n",
    "salaries = np.array(salaries).reshape(-1,1)\n",
    "minmaxed = scaler.fit_transform(salaries)\n",
    "print(minmaxed)"
   ]
  },
  {
   "cell_type": "markdown",
   "metadata": {},
   "source": [
    "### standardizing"
   ]
  },
  {
   "cell_type": "code",
   "execution_count": 32,
   "metadata": {},
   "outputs": [
    {
     "data": {
      "text/plain": [
       "array([[ 0.97661715],\n",
       "       [ 0.65146878],\n",
       "       [-0.62265912],\n",
       "       [-1.23514791],\n",
       "       [-0.28238758],\n",
       "       [-0.68315184],\n",
       "       [ 0.74976945],\n",
       "       [-1.06879293],\n",
       "       [-0.41093461],\n",
       "       [-0.01017034],\n",
       "       [ 1.21858803],\n",
       "       [-0.30507235],\n",
       "       [-1.14818962],\n",
       "       [ 0.64390719],\n",
       "       [ 0.12215749],\n",
       "       [-1.26539427],\n",
       "       [ 1.22614962],\n",
       "       [ 1.50214765],\n",
       "       [ 0.84807012],\n",
       "       [ 1.19590326],\n",
       "       [-1.04232737],\n",
       "       [ 0.54560652],\n",
       "       [ 1.18456087],\n",
       "       [ 0.37168995],\n",
       "       [-0.42983858],\n",
       "       [-1.83251351],\n",
       "       [-0.57350879],\n",
       "       [ 0.09569192],\n",
       "       [ 1.237492  ],\n",
       "       [ 1.44165493],\n",
       "       [-0.41093461],\n",
       "       [ 1.05601384],\n",
       "       [-1.23136711],\n",
       "       [ 0.82916615],\n",
       "       [-0.13871737],\n",
       "       [-2.16144268],\n",
       "       [ 0.50779857],\n",
       "       [-0.70583661],\n",
       "       [ 0.90478204],\n",
       "       [ 0.31119723],\n",
       "       [-2.21059301],\n",
       "       [-0.34666109],\n",
       "       [ 1.06735623],\n",
       "       [-1.29185983],\n",
       "       [-0.98561544],\n",
       "       [ 1.07491782],\n",
       "       [-1.49224197],\n",
       "       [-0.06688226],\n",
       "       [-1.31076381],\n",
       "       [ 1.44543573],\n",
       "       [ 0.82160456],\n",
       "       [-0.52057766],\n",
       "       [-1.91191021],\n",
       "       [-1.00451942],\n",
       "       [-0.29372996],\n",
       "       [ 1.3131079 ],\n",
       "       [-1.80226716],\n",
       "       [-0.13115578],\n",
       "       [ 0.45864824],\n",
       "       [-0.14627896],\n",
       "       [ 0.8631933 ],\n",
       "       [-0.17274452],\n",
       "       [ 1.43031255],\n",
       "       [ 0.06544556],\n",
       "       [ 0.00873364],\n",
       "       [-0.53192004],\n",
       "       [ 0.03898   ],\n",
       "       [-0.75876774],\n",
       "       [-0.0366359 ],\n",
       "       [-1.11794327],\n",
       "       [-1.49980356],\n",
       "       [-1.50736515],\n",
       "       [ 0.10325351],\n",
       "       [ 0.26960849],\n",
       "       [-0.41093461],\n",
       "       [-1.87410226],\n",
       "       [ 0.65146878],\n",
       "       [ 1.10138338],\n",
       "       [ 1.27529995],\n",
       "       [ 0.96905556],\n",
       "       [ 1.18078008],\n",
       "       [ 1.27529995],\n",
       "       [-0.16896373],\n",
       "       [-0.73608297],\n",
       "       [ 0.45108665],\n",
       "       [-1.17087439],\n",
       "       [ 0.85563171],\n",
       "       [ 0.99552112],\n",
       "       [ 1.16943769],\n",
       "       [ 0.01629523],\n",
       "       [ 1.37738142],\n",
       "       [-0.02151272],\n",
       "       [-0.50923527],\n",
       "       [ 0.28095087],\n",
       "       [ 1.55129798],\n",
       "       [ 1.25261518],\n",
       "       [ 0.78379661],\n",
       "       [-1.90434862],\n",
       "       [ 0.10325351],\n",
       "       [-0.37690745]])"
      ]
     },
     "execution_count": 32,
     "metadata": {},
     "output_type": "execute_result"
    }
   ],
   "source": [
    "sscaler = StandardScaler()\n",
    "standard = sscaler.fit_transform(salaries)\n",
    "standard"
   ]
  },
  {
   "cell_type": "markdown",
   "metadata": {},
   "source": [
    "## Exercise 8: Calculating covariance and correlation\n",
    "### covariance"
   ]
  },
  {
   "cell_type": "code",
   "execution_count": 37,
   "metadata": {},
   "outputs": [
    {
     "data": {
      "text/plain": [
       "0.2685088459449036"
      ]
     },
     "execution_count": 37,
     "metadata": {},
     "output_type": "execute_result"
    }
   ],
   "source": [
    "cov_matrix = np.cov(minmaxed.T,standard.T)\n",
    "cov = cov_matrix[0,1]\n",
    "cov"
   ]
  },
  {
   "cell_type": "markdown",
   "metadata": {},
   "source": [
    "### Pearson correlation coefficient ($\\rho$)"
   ]
  },
  {
   "cell_type": "code",
   "execution_count": 39,
   "metadata": {},
   "outputs": [
    {
     "data": {
      "text/plain": [
       "1.0"
      ]
     },
     "execution_count": 39,
     "metadata": {},
     "output_type": "execute_result"
    }
   ],
   "source": [
    "pcc_matrix = np.corrcoef(minmaxed.T,standard.T)\n",
    "pcc = pcc_matrix[0,1]\n",
    "pcc"
   ]
  },
  {
   "cell_type": "markdown",
   "metadata": {},
   "source": [
    "<hr>\n",
    "<div style=\"overflow: hidden; margin-bottom: 10px;\">\n",
    "    <div style=\"float: left;\">\n",
    "        <a href=\"./python_101.ipynb\">\n",
    "            <button>Python 101</button>\n",
    "        </a>\n",
    "    </div>\n",
    "    <div style=\"float: right;\">\n",
    "        <a href=\"../../solutions/ch_01/solutions.ipynb\">\n",
    "            <button>Solutions</button>\n",
    "        </a>\n",
    "        <a href=\"../ch_02/1-pandas_data_structures.ipynb\">\n",
    "            <button>Chapter 2 &#8594;</button>\n",
    "        </a>\n",
    "    </div>\n",
    "</div>\n",
    "<hr>"
   ]
  }
 ],
 "metadata": {
  "kernelspec": {
   "display_name": "Python 3",
   "language": "python",
   "name": "python3"
  },
  "language_info": {
   "codemirror_mode": {
    "name": "ipython",
    "version": 3
   },
   "file_extension": ".py",
   "mimetype": "text/x-python",
   "name": "python",
   "nbconvert_exporter": "python",
   "pygments_lexer": "ipython3",
   "version": "3.10.10"
  }
 },
 "nbformat": 4,
 "nbformat_minor": 4
}
